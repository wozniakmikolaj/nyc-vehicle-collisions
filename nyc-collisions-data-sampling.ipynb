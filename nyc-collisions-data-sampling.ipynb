{
 "cells": [
  {
   "cell_type": "markdown",
   "metadata": {},
   "source": [
    "# Introduction to the dataset"
   ]
  },
  {
   "cell_type": "markdown",
   "metadata": {},
   "source": [
    "A summary of the columns and the data they represent:\n",
    "\n",
    "`DATE`: Date of the collision.  \n",
    "`TIME`: Time of the collision.  \n",
    "`BOROUGH`: The borough, or area of New York City, where the collision occurred.  \n",
    "`ZIP CODE`: Zip code of the area, where the collision occured.  \n",
    "`LATITUDE`: Latitude of the place, where the collision occured.  \n",
    "`LONGITUDE`: Longitude of the place, where the collision occured.  \n",
    "`LOCATION`: Latitude and longitude coordinates for the collision.  \n",
    "`ON STREET NAME`, `CROSS STREET NAME`, `OFF STREET NAME`: Details of the street or intersection where the collision occurred.  \n",
    "`NUMBER OF PERSONS INJURED`: Total number of people injured.   \n",
    "`NUMBER OF PERSONS KILLED`: Total number of people killed.  \n",
    "`NUMBER OF PEDESTRIANS INJURED`: Number of pedestrians who were injured.   \n",
    "`NUMBER OF PEDESTRIANS KILLED`: Number of pedestrians who were killed.  \n",
    "`NUMBER OF CYCLIST INJURED`: Number of people on a bike who were injured.   \n",
    "`NUMBER OF CYCLIST KILLED`:  Number of people on a bike who were killed.  \n",
    "`NUMBER OF MOTORIST INJURED`: Number of people in a vehicle who were injured.  \n",
    "`NUMBER OF MOTORIST KILLED`: Number of people in a vehicle who were killed.  \n",
    "`CONTRIBUTING FACTOR VEHICLE 1` through `CONTRIBUTING FACTOR VEHICLE 5`: Contributing factor for each vehicle in the accident.  \n",
    "`UNIQUE KEY`: A unique identifier for each collision.  \n",
    "`VEHICLE TYPE CODE 1` through `VEHICLE TYPE CODE 5`: Type of each vehicle involved in the accident."
   ]
  },
  {
   "cell_type": "markdown",
   "metadata": {},
   "source": [
    "Imports and constants"
   ]
  },
  {
   "cell_type": "code",
   "execution_count": 1,
   "metadata": {},
   "outputs": [],
   "source": [
    "import pandas as pd\n",
    "\n",
    "data_path = \"data/nyc_vehicle_collisions.csv\"\n",
    "sample_path = \"data/nyc_sample.csv\""
   ]
  },
  {
   "cell_type": "markdown",
   "metadata": {},
   "source": [
    "The dataset is in a CSV file called nyc_vehicle_collisions.csv. Let's read the data into a pandas dataframe and inspect the first few rows of the data as well as its size:"
   ]
  },
  {
   "cell_type": "code",
   "execution_count": 2,
   "metadata": {},
   "outputs": [
    {
     "data": {
      "text/html": [
       "<div>\n",
       "<style scoped>\n",
       "    .dataframe tbody tr th:only-of-type {\n",
       "        vertical-align: middle;\n",
       "    }\n",
       "\n",
       "    .dataframe tbody tr th {\n",
       "        vertical-align: top;\n",
       "    }\n",
       "\n",
       "    .dataframe thead th {\n",
       "        text-align: right;\n",
       "    }\n",
       "</style>\n",
       "<table border=\"1\" class=\"dataframe\">\n",
       "  <thead>\n",
       "    <tr style=\"text-align: right;\">\n",
       "      <th></th>\n",
       "      <th>DATE</th>\n",
       "      <th>TIME</th>\n",
       "      <th>BOROUGH</th>\n",
       "      <th>ZIP CODE</th>\n",
       "      <th>LATITUDE</th>\n",
       "      <th>LONGITUDE</th>\n",
       "      <th>LOCATION</th>\n",
       "      <th>ON STREET NAME</th>\n",
       "      <th>CROSS STREET NAME</th>\n",
       "      <th>OFF STREET NAME</th>\n",
       "      <th>...</th>\n",
       "      <th>CONTRIBUTING FACTOR VEHICLE 2</th>\n",
       "      <th>CONTRIBUTING FACTOR VEHICLE 3</th>\n",
       "      <th>CONTRIBUTING FACTOR VEHICLE 4</th>\n",
       "      <th>CONTRIBUTING FACTOR VEHICLE 5</th>\n",
       "      <th>UNIQUE KEY</th>\n",
       "      <th>VEHICLE TYPE CODE 1</th>\n",
       "      <th>VEHICLE TYPE CODE 2</th>\n",
       "      <th>VEHICLE TYPE CODE 3</th>\n",
       "      <th>VEHICLE TYPE CODE 4</th>\n",
       "      <th>VEHICLE TYPE CODE 5</th>\n",
       "    </tr>\n",
       "  </thead>\n",
       "  <tbody>\n",
       "    <tr>\n",
       "      <th>0</th>\n",
       "      <td>01/01/2018</td>\n",
       "      <td>9:49</td>\n",
       "      <td>BROOKLYN</td>\n",
       "      <td>11206.0</td>\n",
       "      <td>40.701878</td>\n",
       "      <td>-73.929860</td>\n",
       "      <td>(40.701878, -73.92986)</td>\n",
       "      <td>NaN</td>\n",
       "      <td>NaN</td>\n",
       "      <td>257       MELROSE STREET</td>\n",
       "      <td>...</td>\n",
       "      <td>NaN</td>\n",
       "      <td>NaN</td>\n",
       "      <td>NaN</td>\n",
       "      <td>NaN</td>\n",
       "      <td>3820878</td>\n",
       "      <td>PASSENGER VEHICLE</td>\n",
       "      <td>NaN</td>\n",
       "      <td>NaN</td>\n",
       "      <td>NaN</td>\n",
       "      <td>NaN</td>\n",
       "    </tr>\n",
       "    <tr>\n",
       "      <th>1</th>\n",
       "      <td>01/01/2018</td>\n",
       "      <td>9:45</td>\n",
       "      <td>QUEENS</td>\n",
       "      <td>11354.0</td>\n",
       "      <td>40.762420</td>\n",
       "      <td>-73.827520</td>\n",
       "      <td>(40.76242, -73.82752)</td>\n",
       "      <td>37 AVENUE</td>\n",
       "      <td>UNION STREET</td>\n",
       "      <td>NaN</td>\n",
       "      <td>...</td>\n",
       "      <td>Passing Too Closely</td>\n",
       "      <td>NaN</td>\n",
       "      <td>NaN</td>\n",
       "      <td>NaN</td>\n",
       "      <td>3820398</td>\n",
       "      <td>SPORT UTILITY / STATION WAGON</td>\n",
       "      <td>SPORT UTILITY / STATION WAGON</td>\n",
       "      <td>NaN</td>\n",
       "      <td>NaN</td>\n",
       "      <td>NaN</td>\n",
       "    </tr>\n",
       "    <tr>\n",
       "      <th>2</th>\n",
       "      <td>01/01/2018</td>\n",
       "      <td>9:45</td>\n",
       "      <td>QUEENS</td>\n",
       "      <td>11004.0</td>\n",
       "      <td>40.743510</td>\n",
       "      <td>-73.717415</td>\n",
       "      <td>(40.74351, -73.717415)</td>\n",
       "      <td>80 AVENUE</td>\n",
       "      <td>LITTLE NECK PARKWAY</td>\n",
       "      <td>NaN</td>\n",
       "      <td>...</td>\n",
       "      <td>Unspecified</td>\n",
       "      <td>NaN</td>\n",
       "      <td>NaN</td>\n",
       "      <td>NaN</td>\n",
       "      <td>3818788</td>\n",
       "      <td>SPORT UTILITY / STATION WAGON</td>\n",
       "      <td>SPORT UTILITY / STATION WAGON</td>\n",
       "      <td>NaN</td>\n",
       "      <td>NaN</td>\n",
       "      <td>NaN</td>\n",
       "    </tr>\n",
       "    <tr>\n",
       "      <th>3</th>\n",
       "      <td>01/01/2018</td>\n",
       "      <td>9:30</td>\n",
       "      <td>QUEENS</td>\n",
       "      <td>11367.0</td>\n",
       "      <td>40.729920</td>\n",
       "      <td>-73.833080</td>\n",
       "      <td>(40.72992, -73.83308)</td>\n",
       "      <td>PARK DRIVE EAST</td>\n",
       "      <td>136 STREET</td>\n",
       "      <td>NaN</td>\n",
       "      <td>...</td>\n",
       "      <td>NaN</td>\n",
       "      <td>NaN</td>\n",
       "      <td>NaN</td>\n",
       "      <td>NaN</td>\n",
       "      <td>3823401</td>\n",
       "      <td>PASSENGER VEHICLE</td>\n",
       "      <td>NaN</td>\n",
       "      <td>NaN</td>\n",
       "      <td>NaN</td>\n",
       "      <td>NaN</td>\n",
       "    </tr>\n",
       "    <tr>\n",
       "      <th>4</th>\n",
       "      <td>01/01/2018</td>\n",
       "      <td>9:30</td>\n",
       "      <td>NaN</td>\n",
       "      <td>NaN</td>\n",
       "      <td>40.583412</td>\n",
       "      <td>-73.971300</td>\n",
       "      <td>(40.583412, -73.9713)</td>\n",
       "      <td>BELT PARKWAY</td>\n",
       "      <td>NaN</td>\n",
       "      <td>NaN</td>\n",
       "      <td>...</td>\n",
       "      <td>NaN</td>\n",
       "      <td>NaN</td>\n",
       "      <td>NaN</td>\n",
       "      <td>NaN</td>\n",
       "      <td>3818946</td>\n",
       "      <td>PASSENGER VEHICLE</td>\n",
       "      <td>NaN</td>\n",
       "      <td>NaN</td>\n",
       "      <td>NaN</td>\n",
       "      <td>NaN</td>\n",
       "    </tr>\n",
       "  </tbody>\n",
       "</table>\n",
       "<p>5 rows × 29 columns</p>\n",
       "</div>"
      ],
      "text/plain": [
       "         DATE  TIME   BOROUGH  ZIP CODE   LATITUDE  LONGITUDE  \\\n",
       "0  01/01/2018  9:49  BROOKLYN   11206.0  40.701878 -73.929860   \n",
       "1  01/01/2018  9:45    QUEENS   11354.0  40.762420 -73.827520   \n",
       "2  01/01/2018  9:45    QUEENS   11004.0  40.743510 -73.717415   \n",
       "3  01/01/2018  9:30    QUEENS   11367.0  40.729920 -73.833080   \n",
       "4  01/01/2018  9:30       NaN       NaN  40.583412 -73.971300   \n",
       "\n",
       "                 LOCATION                    ON STREET NAME  \\\n",
       "0  (40.701878, -73.92986)                               NaN   \n",
       "1   (40.76242, -73.82752)  37 AVENUE                          \n",
       "2  (40.74351, -73.717415)  80 AVENUE                          \n",
       "3   (40.72992, -73.83308)  PARK DRIVE EAST                    \n",
       "4   (40.583412, -73.9713)  BELT PARKWAY                       \n",
       "\n",
       "     CROSS STREET NAME                           OFF STREET NAME  ...  \\\n",
       "0                  NaN  257       MELROSE STREET                  ...   \n",
       "1         UNION STREET                                       NaN  ...   \n",
       "2  LITTLE NECK PARKWAY                                       NaN  ...   \n",
       "3           136 STREET                                       NaN  ...   \n",
       "4                  NaN                                       NaN  ...   \n",
       "\n",
       "   CONTRIBUTING FACTOR VEHICLE 2  CONTRIBUTING FACTOR VEHICLE 3  \\\n",
       "0                            NaN                            NaN   \n",
       "1            Passing Too Closely                            NaN   \n",
       "2                    Unspecified                            NaN   \n",
       "3                            NaN                            NaN   \n",
       "4                            NaN                            NaN   \n",
       "\n",
       "   CONTRIBUTING FACTOR VEHICLE 4  CONTRIBUTING FACTOR VEHICLE 5  UNIQUE KEY  \\\n",
       "0                            NaN                            NaN     3820878   \n",
       "1                            NaN                            NaN     3820398   \n",
       "2                            NaN                            NaN     3818788   \n",
       "3                            NaN                            NaN     3823401   \n",
       "4                            NaN                            NaN     3818946   \n",
       "\n",
       "             VEHICLE TYPE CODE 1            VEHICLE TYPE CODE 2  \\\n",
       "0              PASSENGER VEHICLE                            NaN   \n",
       "1  SPORT UTILITY / STATION WAGON  SPORT UTILITY / STATION WAGON   \n",
       "2  SPORT UTILITY / STATION WAGON  SPORT UTILITY / STATION WAGON   \n",
       "3              PASSENGER VEHICLE                            NaN   \n",
       "4              PASSENGER VEHICLE                            NaN   \n",
       "\n",
       "   VEHICLE TYPE CODE 3 VEHICLE TYPE CODE 4 VEHICLE TYPE CODE 5  \n",
       "0                  NaN                 NaN                 NaN  \n",
       "1                  NaN                 NaN                 NaN  \n",
       "2                  NaN                 NaN                 NaN  \n",
       "3                  NaN                 NaN                 NaN  \n",
       "4                  NaN                 NaN                 NaN  \n",
       "\n",
       "[5 rows x 29 columns]"
      ]
     },
     "execution_count": 2,
     "metadata": {},
     "output_type": "execute_result"
    }
   ],
   "source": [
    "nyc_2018 = pd.read_csv(data_path)\n",
    "nyc_2018.head(5)"
   ]
  },
  {
   "cell_type": "code",
   "execution_count": 3,
   "metadata": {},
   "outputs": [
    {
     "data": {
      "text/plain": [
       "(231496, 29)"
      ]
     },
     "execution_count": 3,
     "metadata": {},
     "output_type": "execute_result"
    }
   ],
   "source": [
    "nyc_2018.shape"
   ]
  },
  {
   "cell_type": "markdown",
   "metadata": {},
   "source": [
    "The dataset consists of 231496 rows and 29 columns."
   ]
  },
  {
   "cell_type": "markdown",
   "metadata": {},
   "source": [
    "# Sampling from the dataset"
   ]
  },
  {
   "cell_type": "markdown",
   "metadata": {},
   "source": [
    "Because our dataset is relatively big for jupyter notebook with over 230.000 rows, we will use [Simple Random Sampling](https://en.wikipedia.org/wiki/Simple_random_sample) to reduce its size for the purpose of analysis. I will reduce dataset's size to 1/5 of it's original size, but the sample will still be big enough. A large sample decreases the variability of the sampling process, which decreases the chance that the sample will be unrepresentative."
   ]
  },
  {
   "cell_type": "markdown",
   "metadata": {},
   "source": [
    "Since this is meant to be a project showcasing skills, and it won't be used to make any meaningfull decisions, I won't take the structure of the data into consideration (as we would when using  for example [Stratified Sampling](https://en.wikipedia.org/wiki/Stratified_sampling) or [Cluster Sampling](https://en.wikipedia.org/wiki/Cluster_sampling)) and I'll perform the analysis ignoring potential misrepresentations. What is more, we don't have a single category that interests us making it hard to define a good stratum."
   ]
  },
  {
   "cell_type": "code",
   "execution_count": 4,
   "metadata": {},
   "outputs": [],
   "source": [
    "sample_size = int(nyc_2018.shape[0] * (1/5))"
   ]
  },
  {
   "cell_type": "markdown",
   "metadata": {},
   "source": [
    "We will use pandas' sample method with random_state parameter, to make the results reproducible."
   ]
  },
  {
   "cell_type": "code",
   "execution_count": 5,
   "metadata": {},
   "outputs": [],
   "source": [
    "nyc_sample = nyc_2018.sample(sample_size, random_state=1, axis=0)"
   ]
  },
  {
   "cell_type": "markdown",
   "metadata": {},
   "source": [
    "Let's check the sample size."
   ]
  },
  {
   "cell_type": "code",
   "execution_count": 6,
   "metadata": {},
   "outputs": [
    {
     "data": {
      "text/plain": [
       "(46299, 29)"
      ]
     },
     "execution_count": 6,
     "metadata": {},
     "output_type": "execute_result"
    }
   ],
   "source": [
    "nyc_sample.shape"
   ]
  },
  {
   "cell_type": "markdown",
   "metadata": {},
   "source": [
    "Let's check `BOROUGH`'s frequency distribution to see whether the sampling error is big or not. We will include null values and present the result as percentages."
   ]
  },
  {
   "cell_type": "code",
   "execution_count": 12,
   "metadata": {},
   "outputs": [
    {
     "name": "stdout",
     "output_type": "stream",
     "text": [
      "NaN              35.557850\n",
      "BROOKLYN         20.429295\n",
      "QUEENS           17.827090\n",
      "MANHATTAN        13.565245\n",
      "BRONX             9.955248\n",
      "STATEN ISLAND     2.665273\n",
      "Name: BOROUGH, dtype: float64\n",
      "NaN              35.653038\n",
      "BROOKLYN         20.622476\n",
      "QUEENS           17.775762\n",
      "MANHATTAN        13.468973\n",
      "BRONX             9.823106\n",
      "STATEN ISLAND     2.656645\n",
      "Name: BOROUGH, dtype: float64\n"
     ]
    }
   ],
   "source": [
    "original = nyc_2018[\"BOROUGH\"].value_counts(normalize=True, dropna=False) * 100\n",
    "print(original)\n",
    "sampled = nyc_sample[\"BOROUGH\"].value_counts(normalize=True, dropna=False) * 100\n",
    "print(sampled)"
   ]
  },
  {
   "cell_type": "markdown",
   "metadata": {},
   "source": [
    "As we can see, regarding the `BOROUGH` column, percentages of values in the sample and in original are about the same. High percentage of missing values may be concerning, that's definitely something we'll have to take a look at when cleaning the data. The last thing to do is to save our sample to a new csv file for further analysis."
   ]
  },
  {
   "cell_type": "code",
   "execution_count": null,
   "metadata": {},
   "outputs": [],
   "source": [
    "exported = nyc_sample.to_csv (sample_path, index = None, header=True)"
   ]
  },
  {
   "cell_type": "markdown",
   "metadata": {},
   "source": [
    "# Conclusions"
   ]
  },
  {
   "cell_type": "markdown",
   "metadata": {},
   "source": [
    "We have successfully sampled the dataset using Simple Random Sampling without any big misrepresentations of the data. Next part of the project - cleaning the data and initial analysis can be found [here](nyc-collisions-data-cleaning.ipynb)."
   ]
  }
 ],
 "metadata": {
  "kernelspec": {
   "display_name": "Python 3",
   "language": "python",
   "name": "python3"
  },
  "language_info": {
   "codemirror_mode": {
    "name": "ipython",
    "version": 3
   },
   "file_extension": ".py",
   "mimetype": "text/x-python",
   "name": "python",
   "nbconvert_exporter": "python",
   "pygments_lexer": "ipython3",
   "version": "3.6.8"
  }
 },
 "nbformat": 4,
 "nbformat_minor": 2
}
