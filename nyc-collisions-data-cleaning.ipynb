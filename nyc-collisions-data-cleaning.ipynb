{
 "cells": [
  {
   "cell_type": "markdown",
   "metadata": {},
   "source": [
    "# Cleaning the sampled dataset"
   ]
  },
  {
   "cell_type": "markdown",
   "metadata": {},
   "source": [
    "For introduction and sampling of the dataset visit [this](nyc-collisions-data-sampling.ipynb) page.  "
   ]
  },
  {
   "cell_type": "markdown",
   "metadata": {},
   "source": [
    "Imports and constants:"
   ]
  },
  {
   "cell_type": "code",
   "execution_count": 25,
   "metadata": {},
   "outputs": [],
   "source": [
    "import numpy as np\n",
    "import pandas as pd\n",
    "import matplotlib.pyplot as plt\n",
    "import seaborn as sns\n",
    "import re\n",
    "\n",
    "data_path = \"data/nyc_sample.csv\""
   ]
  },
  {
   "cell_type": "markdown",
   "metadata": {},
   "source": [
    "The dataset is in a CSV file called nyc_sample.csv. Let's read the data into a pandas dataframe and inspect the first few rows of the data:"
   ]
  },
  {
   "cell_type": "code",
   "execution_count": 26,
   "metadata": {},
   "outputs": [
    {
     "data": {
      "text/html": [
       "<div>\n",
       "<style scoped>\n",
       "    .dataframe tbody tr th:only-of-type {\n",
       "        vertical-align: middle;\n",
       "    }\n",
       "\n",
       "    .dataframe tbody tr th {\n",
       "        vertical-align: top;\n",
       "    }\n",
       "\n",
       "    .dataframe thead th {\n",
       "        text-align: right;\n",
       "    }\n",
       "</style>\n",
       "<table border=\"1\" class=\"dataframe\">\n",
       "  <thead>\n",
       "    <tr style=\"text-align: right;\">\n",
       "      <th></th>\n",
       "      <th>DATE</th>\n",
       "      <th>TIME</th>\n",
       "      <th>BOROUGH</th>\n",
       "      <th>ZIP CODE</th>\n",
       "      <th>LATITUDE</th>\n",
       "      <th>LONGITUDE</th>\n",
       "      <th>LOCATION</th>\n",
       "      <th>ON STREET NAME</th>\n",
       "      <th>CROSS STREET NAME</th>\n",
       "      <th>OFF STREET NAME</th>\n",
       "      <th>...</th>\n",
       "      <th>CONTRIBUTING FACTOR VEHICLE 2</th>\n",
       "      <th>CONTRIBUTING FACTOR VEHICLE 3</th>\n",
       "      <th>CONTRIBUTING FACTOR VEHICLE 4</th>\n",
       "      <th>CONTRIBUTING FACTOR VEHICLE 5</th>\n",
       "      <th>UNIQUE KEY</th>\n",
       "      <th>VEHICLE TYPE CODE 1</th>\n",
       "      <th>VEHICLE TYPE CODE 2</th>\n",
       "      <th>VEHICLE TYPE CODE 3</th>\n",
       "      <th>VEHICLE TYPE CODE 4</th>\n",
       "      <th>VEHICLE TYPE CODE 5</th>\n",
       "    </tr>\n",
       "  </thead>\n",
       "  <tbody>\n",
       "    <tr>\n",
       "      <th>0</th>\n",
       "      <td>08/19/2018</td>\n",
       "      <td>0:40</td>\n",
       "      <td>NaN</td>\n",
       "      <td>NaN</td>\n",
       "      <td>40.622414</td>\n",
       "      <td>-73.896484</td>\n",
       "      <td>(40.622414, -73.896484)</td>\n",
       "      <td>BELT PARKWAY</td>\n",
       "      <td>NaN</td>\n",
       "      <td>NaN</td>\n",
       "      <td>...</td>\n",
       "      <td>Unspecified</td>\n",
       "      <td>NaN</td>\n",
       "      <td>NaN</td>\n",
       "      <td>NaN</td>\n",
       "      <td>3963695</td>\n",
       "      <td>Station Wagon/Sport Utility Vehicle</td>\n",
       "      <td>Station Wagon/Sport Utility Vehicle</td>\n",
       "      <td>NaN</td>\n",
       "      <td>NaN</td>\n",
       "      <td>NaN</td>\n",
       "    </tr>\n",
       "    <tr>\n",
       "      <th>1</th>\n",
       "      <td>03/08/2018</td>\n",
       "      <td>13:00</td>\n",
       "      <td>QUEENS</td>\n",
       "      <td>11432.0</td>\n",
       "      <td>40.720165</td>\n",
       "      <td>-73.799020</td>\n",
       "      <td>(40.720165, -73.79902)</td>\n",
       "      <td>168 STREET</td>\n",
       "      <td>GOETHALS AVENUE</td>\n",
       "      <td>NaN</td>\n",
       "      <td>...</td>\n",
       "      <td>Unspecified</td>\n",
       "      <td>NaN</td>\n",
       "      <td>NaN</td>\n",
       "      <td>NaN</td>\n",
       "      <td>3859433</td>\n",
       "      <td>PASSENGER VEHICLE</td>\n",
       "      <td>PASSENGER VEHICLE</td>\n",
       "      <td>NaN</td>\n",
       "      <td>NaN</td>\n",
       "      <td>NaN</td>\n",
       "    </tr>\n",
       "    <tr>\n",
       "      <th>2</th>\n",
       "      <td>11/11/2018</td>\n",
       "      <td>15:40</td>\n",
       "      <td>BRONX</td>\n",
       "      <td>10465.0</td>\n",
       "      <td>40.827282</td>\n",
       "      <td>-73.830170</td>\n",
       "      <td>(40.827282, -73.83017)</td>\n",
       "      <td>HUNTINGTON AVENUE</td>\n",
       "      <td>LAFAYETTE AVENUE</td>\n",
       "      <td>NaN</td>\n",
       "      <td>...</td>\n",
       "      <td>Unspecified</td>\n",
       "      <td>NaN</td>\n",
       "      <td>NaN</td>\n",
       "      <td>NaN</td>\n",
       "      <td>4028471</td>\n",
       "      <td>Sedan</td>\n",
       "      <td>Station Wagon/Sport Utility Vehicle</td>\n",
       "      <td>NaN</td>\n",
       "      <td>NaN</td>\n",
       "      <td>NaN</td>\n",
       "    </tr>\n",
       "    <tr>\n",
       "      <th>3</th>\n",
       "      <td>11/16/2018</td>\n",
       "      <td>22:00</td>\n",
       "      <td>NaN</td>\n",
       "      <td>NaN</td>\n",
       "      <td>40.699936</td>\n",
       "      <td>-73.911810</td>\n",
       "      <td>(40.699936, -73.91181)</td>\n",
       "      <td>WYCKOFF AVENUE</td>\n",
       "      <td>NaN</td>\n",
       "      <td>NaN</td>\n",
       "      <td>...</td>\n",
       "      <td>Unspecified</td>\n",
       "      <td>NaN</td>\n",
       "      <td>NaN</td>\n",
       "      <td>NaN</td>\n",
       "      <td>4028778</td>\n",
       "      <td>Dump</td>\n",
       "      <td>Sedan</td>\n",
       "      <td>NaN</td>\n",
       "      <td>NaN</td>\n",
       "      <td>NaN</td>\n",
       "    </tr>\n",
       "    <tr>\n",
       "      <th>4</th>\n",
       "      <td>01/03/2018</td>\n",
       "      <td>13:05</td>\n",
       "      <td>BRONX</td>\n",
       "      <td>10458.0</td>\n",
       "      <td>40.855690</td>\n",
       "      <td>-73.881035</td>\n",
       "      <td>(40.85569, -73.881035)</td>\n",
       "      <td>NaN</td>\n",
       "      <td>NaN</td>\n",
       "      <td>2475      SOUTHERN BOULEVARD</td>\n",
       "      <td>...</td>\n",
       "      <td>Driver Inattention/Distraction</td>\n",
       "      <td>NaN</td>\n",
       "      <td>NaN</td>\n",
       "      <td>NaN</td>\n",
       "      <td>3821653</td>\n",
       "      <td>PASSENGER VEHICLE</td>\n",
       "      <td>Van</td>\n",
       "      <td>NaN</td>\n",
       "      <td>NaN</td>\n",
       "      <td>NaN</td>\n",
       "    </tr>\n",
       "  </tbody>\n",
       "</table>\n",
       "<p>5 rows × 29 columns</p>\n",
       "</div>"
      ],
      "text/plain": [
       "         DATE   TIME BOROUGH  ZIP CODE   LATITUDE  LONGITUDE  \\\n",
       "0  08/19/2018   0:40     NaN       NaN  40.622414 -73.896484   \n",
       "1  03/08/2018  13:00  QUEENS   11432.0  40.720165 -73.799020   \n",
       "2  11/11/2018  15:40   BRONX   10465.0  40.827282 -73.830170   \n",
       "3  11/16/2018  22:00     NaN       NaN  40.699936 -73.911810   \n",
       "4  01/03/2018  13:05   BRONX   10458.0  40.855690 -73.881035   \n",
       "\n",
       "                  LOCATION                    ON STREET NAME  \\\n",
       "0  (40.622414, -73.896484)  BELT PARKWAY                       \n",
       "1   (40.720165, -73.79902)  168 STREET                         \n",
       "2   (40.827282, -73.83017)  HUNTINGTON AVENUE                  \n",
       "3   (40.699936, -73.91181)  WYCKOFF AVENUE                     \n",
       "4   (40.85569, -73.881035)                               NaN   \n",
       "\n",
       "  CROSS STREET NAME                           OFF STREET NAME  ...  \\\n",
       "0               NaN                                       NaN  ...   \n",
       "1   GOETHALS AVENUE                                       NaN  ...   \n",
       "2  LAFAYETTE AVENUE                                       NaN  ...   \n",
       "3               NaN                                       NaN  ...   \n",
       "4               NaN  2475      SOUTHERN BOULEVARD              ...   \n",
       "\n",
       "    CONTRIBUTING FACTOR VEHICLE 2  CONTRIBUTING FACTOR VEHICLE 3  \\\n",
       "0                     Unspecified                            NaN   \n",
       "1                     Unspecified                            NaN   \n",
       "2                     Unspecified                            NaN   \n",
       "3                     Unspecified                            NaN   \n",
       "4  Driver Inattention/Distraction                            NaN   \n",
       "\n",
       "   CONTRIBUTING FACTOR VEHICLE 4  CONTRIBUTING FACTOR VEHICLE 5  UNIQUE KEY  \\\n",
       "0                            NaN                            NaN     3963695   \n",
       "1                            NaN                            NaN     3859433   \n",
       "2                            NaN                            NaN     4028471   \n",
       "3                            NaN                            NaN     4028778   \n",
       "4                            NaN                            NaN     3821653   \n",
       "\n",
       "                   VEHICLE TYPE CODE 1                  VEHICLE TYPE CODE 2  \\\n",
       "0  Station Wagon/Sport Utility Vehicle  Station Wagon/Sport Utility Vehicle   \n",
       "1                    PASSENGER VEHICLE                    PASSENGER VEHICLE   \n",
       "2                                Sedan  Station Wagon/Sport Utility Vehicle   \n",
       "3                                 Dump                                Sedan   \n",
       "4                    PASSENGER VEHICLE                                  Van   \n",
       "\n",
       "   VEHICLE TYPE CODE 3 VEHICLE TYPE CODE 4 VEHICLE TYPE CODE 5  \n",
       "0                  NaN                 NaN                 NaN  \n",
       "1                  NaN                 NaN                 NaN  \n",
       "2                  NaN                 NaN                 NaN  \n",
       "3                  NaN                 NaN                 NaN  \n",
       "4                  NaN                 NaN                 NaN  \n",
       "\n",
       "[5 rows x 29 columns]"
      ]
     },
     "execution_count": 26,
     "metadata": {},
     "output_type": "execute_result"
    }
   ],
   "source": [
    "nyc_data = pd.read_csv(data_path)\n",
    "nyc_data.head(5)"
   ]
  },
  {
   "cell_type": "markdown",
   "metadata": {},
   "source": [
    "First, before cleaning the data, let's check the column names again and rename some of them, while make them uniform."
   ]
  },
  {
   "cell_type": "code",
   "execution_count": 27,
   "metadata": {},
   "outputs": [
    {
     "data": {
      "text/plain": [
       "Index(['DATE', 'TIME', 'BOROUGH', 'ZIP CODE', 'LATITUDE', 'LONGITUDE',\n",
       "       'LOCATION', 'ON STREET NAME', 'CROSS STREET NAME', 'OFF STREET NAME',\n",
       "       'NUMBER OF PERSONS INJURED', 'NUMBER OF PERSONS KILLED',\n",
       "       'NUMBER OF PEDESTRIANS INJURED', 'NUMBER OF PEDESTRIANS KILLED',\n",
       "       'NUMBER OF CYCLIST INJURED', 'NUMBER OF CYCLIST KILLED',\n",
       "       'NUMBER OF MOTORIST INJURED', 'NUMBER OF MOTORIST KILLED',\n",
       "       'CONTRIBUTING FACTOR VEHICLE 1', 'CONTRIBUTING FACTOR VEHICLE 2',\n",
       "       'CONTRIBUTING FACTOR VEHICLE 3', 'CONTRIBUTING FACTOR VEHICLE 4',\n",
       "       'CONTRIBUTING FACTOR VEHICLE 5', 'UNIQUE KEY', 'VEHICLE TYPE CODE 1',\n",
       "       'VEHICLE TYPE CODE 2', 'VEHICLE TYPE CODE 3', 'VEHICLE TYPE CODE 4',\n",
       "       'VEHICLE TYPE CODE 5'],\n",
       "      dtype='object')"
      ]
     },
     "execution_count": 27,
     "metadata": {},
     "output_type": "execute_result"
    }
   ],
   "source": [
    "nyc_data.columns"
   ]
  },
  {
   "cell_type": "markdown",
   "metadata": {},
   "source": [
    "While cleaning the column names, let's use list comprehension to chain the vectorised operations on strings without having to type .str every time."
   ]
  },
  {
   "cell_type": "code",
   "execution_count": 33,
   "metadata": {},
   "outputs": [],
   "source": [
    "to_be_replaced = {\" \": \"_\", \"number_of_\": \"\", \"_name\": \"\", \"_code\": \"\", \"contributing_factor\": \"cause\"}\n",
    "\n",
    "nyc_data.columns = [col.lower().replace(\"\", \"\") for col in nyc_data.columns]\n",
    "# nyc_data.columns = [col.lower().replace(\" \", \"_\").replace(\"number_of_\", \"\").replace(\"_name\", \"\").replace(\"_code\", \"\").replace(\"contributing_factor\", \"cause\") for col in nyc_data.columns]"
   ]
  },
  {
   "cell_type": "code",
   "execution_count": 34,
   "metadata": {},
   "outputs": [
    {
     "data": {
      "text/plain": [
       "Index(['date', 'time', 'borough', 'zip code', 'latitude', 'longitude',\n",
       "       'location', 'on street name', 'cross street name', 'off street name',\n",
       "       'number of persons injured', 'number of persons killed',\n",
       "       'number of pedestrians injured', 'number of pedestrians killed',\n",
       "       'number of cyclist injured', 'number of cyclist killed',\n",
       "       'number of motorist injured', 'number of motorist killed',\n",
       "       'contributing factor vehicle 1', 'contributing factor vehicle 2',\n",
       "       'contributing factor vehicle 3', 'contributing factor vehicle 4',\n",
       "       'contributing factor vehicle 5', 'unique key', 'vehicle type code 1',\n",
       "       'vehicle type code 2', 'vehicle type code 3', 'vehicle type code 4',\n",
       "       'vehicle type code 5'],\n",
       "      dtype='object')"
      ]
     },
     "execution_count": 34,
     "metadata": {},
     "output_type": "execute_result"
    }
   ],
   "source": [
    "nyc_data.columns"
   ]
  },
  {
   "cell_type": "markdown",
   "metadata": {},
   "source": [
    "Our column names look much better, but let's change their order and simplify some of them. "
   ]
  },
  {
   "cell_type": "code",
   "execution_count": 35,
   "metadata": {},
   "outputs": [],
   "source": [
    "new_columns = ['unique_key', 'date', 'time', 'borough', 'zip_code', 'latitude', 'longitude', 'location', \n",
    "               'on_street', 'cross_street', 'off_street',\n",
    "               'pedestrians_injured', 'cyclist_injured', 'motorist_injured', 'total_injured', \n",
    "               'pedestrians_killed', 'cyclist_killed', 'motorist_killed', 'total_killed', \n",
    "               'vehicle_type_1', 'vehicle_type_2', 'vehicle_type_3', 'vehicle_type_4', 'vehicle_type_5', \n",
    "               'cause_vehicle_1', 'cause_vehicle_2','cause_vehicle_3', 'cause_vehicle_4', 'cause_vehicle_5'\n",
    "              ]\n",
    "nyc_data.columns = new_columns"
   ]
  },
  {
   "cell_type": "code",
   "execution_count": 36,
   "metadata": {},
   "outputs": [
    {
     "data": {
      "text/plain": [
       "Index(['unique_key', 'date', 'time', 'borough', 'zip_code', 'latitude',\n",
       "       'longitude', 'location', 'on_street', 'cross_street', 'off_street',\n",
       "       'pedestrians_injured', 'cyclist_injured', 'motorist_injured',\n",
       "       'total_injured', 'pedestrians_killed', 'cyclist_killed',\n",
       "       'motorist_killed', 'total_killed', 'vehicle_type_1', 'vehicle_type_2',\n",
       "       'vehicle_type_3', 'vehicle_type_4', 'vehicle_type_5', 'cause_vehicle_1',\n",
       "       'cause_vehicle_2', 'cause_vehicle_3', 'cause_vehicle_4',\n",
       "       'cause_vehicle_5'],\n",
       "      dtype='object')"
      ]
     },
     "execution_count": 36,
     "metadata": {},
     "output_type": "execute_result"
    }
   ],
   "source": [
    "nyc_data.columns"
   ]
  },
  {
   "cell_type": "code",
   "execution_count": null,
   "metadata": {},
   "outputs": [],
   "source": []
  }
 ],
 "metadata": {
  "kernelspec": {
   "display_name": "Python 3",
   "language": "python",
   "name": "python3"
  },
  "language_info": {
   "codemirror_mode": {
    "name": "ipython",
    "version": 3
   },
   "file_extension": ".py",
   "mimetype": "text/x-python",
   "name": "python",
   "nbconvert_exporter": "python",
   "pygments_lexer": "ipython3",
   "version": "3.6.8"
  }
 },
 "nbformat": 4,
 "nbformat_minor": 2
}
