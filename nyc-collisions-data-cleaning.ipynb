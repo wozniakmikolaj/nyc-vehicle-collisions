{
 "cells": [
  {
   "cell_type": "markdown",
   "metadata": {},
   "source": [
    "# Cleaning the sampled dataset"
   ]
  },
  {
   "cell_type": "markdown",
   "metadata": {},
   "source": [
    "For introduction and sampling of the dataset visit [this](nyc-collisions-data-sampling.ipynb) page.  "
   ]
  },
  {
   "cell_type": "markdown",
   "metadata": {},
   "source": [
    "Imports and constants:"
   ]
  },
  {
   "cell_type": "code",
   "execution_count": 97,
   "metadata": {},
   "outputs": [],
   "source": [
    "import numpy as np\n",
    "import pandas as pd\n",
    "import matplotlib.pyplot as plt\n",
    "import seaborn as sns\n",
    "import re\n",
    "\n",
    "%matplotlib inline\n",
    "\n",
    "data_path = \"data/nyc_sample.csv\""
   ]
  },
  {
   "cell_type": "markdown",
   "metadata": {},
   "source": [
    "The dataset is in a CSV file called nyc_sample.csv. Let's read the data into a pandas dataframe and inspect the first few rows of the data:"
   ]
  },
  {
   "cell_type": "code",
   "execution_count": 80,
   "metadata": {},
   "outputs": [
    {
     "data": {
      "text/html": [
       "<div>\n",
       "<style scoped>\n",
       "    .dataframe tbody tr th:only-of-type {\n",
       "        vertical-align: middle;\n",
       "    }\n",
       "\n",
       "    .dataframe tbody tr th {\n",
       "        vertical-align: top;\n",
       "    }\n",
       "\n",
       "    .dataframe thead th {\n",
       "        text-align: right;\n",
       "    }\n",
       "</style>\n",
       "<table border=\"1\" class=\"dataframe\">\n",
       "  <thead>\n",
       "    <tr style=\"text-align: right;\">\n",
       "      <th></th>\n",
       "      <th>DATE</th>\n",
       "      <th>TIME</th>\n",
       "      <th>BOROUGH</th>\n",
       "      <th>ZIP CODE</th>\n",
       "      <th>LATITUDE</th>\n",
       "      <th>LONGITUDE</th>\n",
       "      <th>LOCATION</th>\n",
       "      <th>ON STREET NAME</th>\n",
       "      <th>CROSS STREET NAME</th>\n",
       "      <th>OFF STREET NAME</th>\n",
       "      <th>NUMBER OF PERSONS INJURED</th>\n",
       "      <th>NUMBER OF PERSONS KILLED</th>\n",
       "      <th>NUMBER OF PEDESTRIANS INJURED</th>\n",
       "      <th>NUMBER OF PEDESTRIANS KILLED</th>\n",
       "      <th>NUMBER OF CYCLIST INJURED</th>\n",
       "      <th>NUMBER OF CYCLIST KILLED</th>\n",
       "      <th>NUMBER OF MOTORIST INJURED</th>\n",
       "      <th>NUMBER OF MOTORIST KILLED</th>\n",
       "      <th>CONTRIBUTING FACTOR VEHICLE 1</th>\n",
       "      <th>CONTRIBUTING FACTOR VEHICLE 2</th>\n",
       "      <th>CONTRIBUTING FACTOR VEHICLE 3</th>\n",
       "      <th>CONTRIBUTING FACTOR VEHICLE 4</th>\n",
       "      <th>CONTRIBUTING FACTOR VEHICLE 5</th>\n",
       "      <th>UNIQUE KEY</th>\n",
       "      <th>VEHICLE TYPE CODE 1</th>\n",
       "      <th>VEHICLE TYPE CODE 2</th>\n",
       "      <th>VEHICLE TYPE CODE 3</th>\n",
       "      <th>VEHICLE TYPE CODE 4</th>\n",
       "      <th>VEHICLE TYPE CODE 5</th>\n",
       "    </tr>\n",
       "  </thead>\n",
       "  <tbody>\n",
       "    <tr>\n",
       "      <th>0</th>\n",
       "      <td>08/19/2018</td>\n",
       "      <td>0:40</td>\n",
       "      <td>NaN</td>\n",
       "      <td>NaN</td>\n",
       "      <td>40.622414</td>\n",
       "      <td>-73.896484</td>\n",
       "      <td>(40.622414, -73.896484)</td>\n",
       "      <td>BELT PARKWAY</td>\n",
       "      <td>NaN</td>\n",
       "      <td>NaN</td>\n",
       "      <td>0.0</td>\n",
       "      <td>0.0</td>\n",
       "      <td>0</td>\n",
       "      <td>0</td>\n",
       "      <td>0</td>\n",
       "      <td>0</td>\n",
       "      <td>0</td>\n",
       "      <td>0</td>\n",
       "      <td>Driver Inattention/Distraction</td>\n",
       "      <td>Unspecified</td>\n",
       "      <td>NaN</td>\n",
       "      <td>NaN</td>\n",
       "      <td>NaN</td>\n",
       "      <td>3963695</td>\n",
       "      <td>Station Wagon/Sport Utility Vehicle</td>\n",
       "      <td>Station Wagon/Sport Utility Vehicle</td>\n",
       "      <td>NaN</td>\n",
       "      <td>NaN</td>\n",
       "      <td>NaN</td>\n",
       "    </tr>\n",
       "    <tr>\n",
       "      <th>1</th>\n",
       "      <td>03/08/2018</td>\n",
       "      <td>13:00</td>\n",
       "      <td>QUEENS</td>\n",
       "      <td>11432.0</td>\n",
       "      <td>40.720165</td>\n",
       "      <td>-73.799020</td>\n",
       "      <td>(40.720165, -73.79902)</td>\n",
       "      <td>168 STREET</td>\n",
       "      <td>GOETHALS AVENUE</td>\n",
       "      <td>NaN</td>\n",
       "      <td>0.0</td>\n",
       "      <td>0.0</td>\n",
       "      <td>0</td>\n",
       "      <td>0</td>\n",
       "      <td>0</td>\n",
       "      <td>0</td>\n",
       "      <td>0</td>\n",
       "      <td>0</td>\n",
       "      <td>Unspecified</td>\n",
       "      <td>Unspecified</td>\n",
       "      <td>NaN</td>\n",
       "      <td>NaN</td>\n",
       "      <td>NaN</td>\n",
       "      <td>3859433</td>\n",
       "      <td>PASSENGER VEHICLE</td>\n",
       "      <td>PASSENGER VEHICLE</td>\n",
       "      <td>NaN</td>\n",
       "      <td>NaN</td>\n",
       "      <td>NaN</td>\n",
       "    </tr>\n",
       "    <tr>\n",
       "      <th>2</th>\n",
       "      <td>11/11/2018</td>\n",
       "      <td>15:40</td>\n",
       "      <td>BRONX</td>\n",
       "      <td>10465.0</td>\n",
       "      <td>40.827282</td>\n",
       "      <td>-73.830170</td>\n",
       "      <td>(40.827282, -73.83017)</td>\n",
       "      <td>HUNTINGTON AVENUE</td>\n",
       "      <td>LAFAYETTE AVENUE</td>\n",
       "      <td>NaN</td>\n",
       "      <td>0.0</td>\n",
       "      <td>0.0</td>\n",
       "      <td>0</td>\n",
       "      <td>0</td>\n",
       "      <td>0</td>\n",
       "      <td>0</td>\n",
       "      <td>0</td>\n",
       "      <td>0</td>\n",
       "      <td>Backing Unsafely</td>\n",
       "      <td>Unspecified</td>\n",
       "      <td>NaN</td>\n",
       "      <td>NaN</td>\n",
       "      <td>NaN</td>\n",
       "      <td>4028471</td>\n",
       "      <td>Sedan</td>\n",
       "      <td>Station Wagon/Sport Utility Vehicle</td>\n",
       "      <td>NaN</td>\n",
       "      <td>NaN</td>\n",
       "      <td>NaN</td>\n",
       "    </tr>\n",
       "    <tr>\n",
       "      <th>3</th>\n",
       "      <td>11/16/2018</td>\n",
       "      <td>22:00</td>\n",
       "      <td>NaN</td>\n",
       "      <td>NaN</td>\n",
       "      <td>40.699936</td>\n",
       "      <td>-73.911810</td>\n",
       "      <td>(40.699936, -73.91181)</td>\n",
       "      <td>WYCKOFF AVENUE</td>\n",
       "      <td>NaN</td>\n",
       "      <td>NaN</td>\n",
       "      <td>0.0</td>\n",
       "      <td>0.0</td>\n",
       "      <td>0</td>\n",
       "      <td>0</td>\n",
       "      <td>0</td>\n",
       "      <td>0</td>\n",
       "      <td>0</td>\n",
       "      <td>0</td>\n",
       "      <td>Driver Inattention/Distraction</td>\n",
       "      <td>Unspecified</td>\n",
       "      <td>NaN</td>\n",
       "      <td>NaN</td>\n",
       "      <td>NaN</td>\n",
       "      <td>4028778</td>\n",
       "      <td>Dump</td>\n",
       "      <td>Sedan</td>\n",
       "      <td>NaN</td>\n",
       "      <td>NaN</td>\n",
       "      <td>NaN</td>\n",
       "    </tr>\n",
       "    <tr>\n",
       "      <th>4</th>\n",
       "      <td>01/03/2018</td>\n",
       "      <td>13:05</td>\n",
       "      <td>BRONX</td>\n",
       "      <td>10458.0</td>\n",
       "      <td>40.855690</td>\n",
       "      <td>-73.881035</td>\n",
       "      <td>(40.85569, -73.881035)</td>\n",
       "      <td>NaN</td>\n",
       "      <td>NaN</td>\n",
       "      <td>2475      SOUTHERN BOULEVARD</td>\n",
       "      <td>0.0</td>\n",
       "      <td>0.0</td>\n",
       "      <td>0</td>\n",
       "      <td>0</td>\n",
       "      <td>0</td>\n",
       "      <td>0</td>\n",
       "      <td>0</td>\n",
       "      <td>0</td>\n",
       "      <td>Driver Inattention/Distraction</td>\n",
       "      <td>Driver Inattention/Distraction</td>\n",
       "      <td>NaN</td>\n",
       "      <td>NaN</td>\n",
       "      <td>NaN</td>\n",
       "      <td>3821653</td>\n",
       "      <td>PASSENGER VEHICLE</td>\n",
       "      <td>Van</td>\n",
       "      <td>NaN</td>\n",
       "      <td>NaN</td>\n",
       "      <td>NaN</td>\n",
       "    </tr>\n",
       "  </tbody>\n",
       "</table>\n",
       "</div>"
      ],
      "text/plain": [
       "         DATE   TIME BOROUGH  ZIP CODE   LATITUDE  LONGITUDE  \\\n",
       "0  08/19/2018   0:40     NaN       NaN  40.622414 -73.896484   \n",
       "1  03/08/2018  13:00  QUEENS   11432.0  40.720165 -73.799020   \n",
       "2  11/11/2018  15:40   BRONX   10465.0  40.827282 -73.830170   \n",
       "3  11/16/2018  22:00     NaN       NaN  40.699936 -73.911810   \n",
       "4  01/03/2018  13:05   BRONX   10458.0  40.855690 -73.881035   \n",
       "\n",
       "                  LOCATION                    ON STREET NAME  \\\n",
       "0  (40.622414, -73.896484)  BELT PARKWAY                       \n",
       "1   (40.720165, -73.79902)  168 STREET                         \n",
       "2   (40.827282, -73.83017)  HUNTINGTON AVENUE                  \n",
       "3   (40.699936, -73.91181)  WYCKOFF AVENUE                     \n",
       "4   (40.85569, -73.881035)                               NaN   \n",
       "\n",
       "  CROSS STREET NAME                           OFF STREET NAME  \\\n",
       "0               NaN                                       NaN   \n",
       "1   GOETHALS AVENUE                                       NaN   \n",
       "2  LAFAYETTE AVENUE                                       NaN   \n",
       "3               NaN                                       NaN   \n",
       "4               NaN  2475      SOUTHERN BOULEVARD               \n",
       "\n",
       "   NUMBER OF PERSONS INJURED  NUMBER OF PERSONS KILLED  \\\n",
       "0                        0.0                       0.0   \n",
       "1                        0.0                       0.0   \n",
       "2                        0.0                       0.0   \n",
       "3                        0.0                       0.0   \n",
       "4                        0.0                       0.0   \n",
       "\n",
       "   NUMBER OF PEDESTRIANS INJURED  NUMBER OF PEDESTRIANS KILLED  \\\n",
       "0                              0                             0   \n",
       "1                              0                             0   \n",
       "2                              0                             0   \n",
       "3                              0                             0   \n",
       "4                              0                             0   \n",
       "\n",
       "   NUMBER OF CYCLIST INJURED  NUMBER OF CYCLIST KILLED  \\\n",
       "0                          0                         0   \n",
       "1                          0                         0   \n",
       "2                          0                         0   \n",
       "3                          0                         0   \n",
       "4                          0                         0   \n",
       "\n",
       "   NUMBER OF MOTORIST INJURED  NUMBER OF MOTORIST KILLED  \\\n",
       "0                           0                          0   \n",
       "1                           0                          0   \n",
       "2                           0                          0   \n",
       "3                           0                          0   \n",
       "4                           0                          0   \n",
       "\n",
       "    CONTRIBUTING FACTOR VEHICLE 1   CONTRIBUTING FACTOR VEHICLE 2  \\\n",
       "0  Driver Inattention/Distraction                     Unspecified   \n",
       "1                     Unspecified                     Unspecified   \n",
       "2                Backing Unsafely                     Unspecified   \n",
       "3  Driver Inattention/Distraction                     Unspecified   \n",
       "4  Driver Inattention/Distraction  Driver Inattention/Distraction   \n",
       "\n",
       "  CONTRIBUTING FACTOR VEHICLE 3 CONTRIBUTING FACTOR VEHICLE 4  \\\n",
       "0                           NaN                           NaN   \n",
       "1                           NaN                           NaN   \n",
       "2                           NaN                           NaN   \n",
       "3                           NaN                           NaN   \n",
       "4                           NaN                           NaN   \n",
       "\n",
       "  CONTRIBUTING FACTOR VEHICLE 5  UNIQUE KEY  \\\n",
       "0                           NaN     3963695   \n",
       "1                           NaN     3859433   \n",
       "2                           NaN     4028471   \n",
       "3                           NaN     4028778   \n",
       "4                           NaN     3821653   \n",
       "\n",
       "                   VEHICLE TYPE CODE 1                  VEHICLE TYPE CODE 2  \\\n",
       "0  Station Wagon/Sport Utility Vehicle  Station Wagon/Sport Utility Vehicle   \n",
       "1                    PASSENGER VEHICLE                    PASSENGER VEHICLE   \n",
       "2                                Sedan  Station Wagon/Sport Utility Vehicle   \n",
       "3                                 Dump                                Sedan   \n",
       "4                    PASSENGER VEHICLE                                  Van   \n",
       "\n",
       "  VEHICLE TYPE CODE 3 VEHICLE TYPE CODE 4 VEHICLE TYPE CODE 5  \n",
       "0                 NaN                 NaN                 NaN  \n",
       "1                 NaN                 NaN                 NaN  \n",
       "2                 NaN                 NaN                 NaN  \n",
       "3                 NaN                 NaN                 NaN  \n",
       "4                 NaN                 NaN                 NaN  "
      ]
     },
     "execution_count": 80,
     "metadata": {},
     "output_type": "execute_result"
    }
   ],
   "source": [
    "nyc_data = pd.read_csv(data_path)\n",
    "pd.options.display.max_columns = 30 #to see all the columns\n",
    "nyc_data.head(5)"
   ]
  },
  {
   "cell_type": "markdown",
   "metadata": {},
   "source": [
    "## Cleaning column names"
   ]
  },
  {
   "cell_type": "markdown",
   "metadata": {},
   "source": [
    "Before cleaning the data, let's check the column names and rename some of them, making them uniform."
   ]
  },
  {
   "cell_type": "code",
   "execution_count": 81,
   "metadata": {},
   "outputs": [
    {
     "data": {
      "text/plain": [
       "Index(['DATE', 'TIME', 'BOROUGH', 'ZIP CODE', 'LATITUDE', 'LONGITUDE',\n",
       "       'LOCATION', 'ON STREET NAME', 'CROSS STREET NAME', 'OFF STREET NAME',\n",
       "       'NUMBER OF PERSONS INJURED', 'NUMBER OF PERSONS KILLED',\n",
       "       'NUMBER OF PEDESTRIANS INJURED', 'NUMBER OF PEDESTRIANS KILLED',\n",
       "       'NUMBER OF CYCLIST INJURED', 'NUMBER OF CYCLIST KILLED',\n",
       "       'NUMBER OF MOTORIST INJURED', 'NUMBER OF MOTORIST KILLED',\n",
       "       'CONTRIBUTING FACTOR VEHICLE 1', 'CONTRIBUTING FACTOR VEHICLE 2',\n",
       "       'CONTRIBUTING FACTOR VEHICLE 3', 'CONTRIBUTING FACTOR VEHICLE 4',\n",
       "       'CONTRIBUTING FACTOR VEHICLE 5', 'UNIQUE KEY', 'VEHICLE TYPE CODE 1',\n",
       "       'VEHICLE TYPE CODE 2', 'VEHICLE TYPE CODE 3', 'VEHICLE TYPE CODE 4',\n",
       "       'VEHICLE TYPE CODE 5'],\n",
       "      dtype='object')"
      ]
     },
     "execution_count": 81,
     "metadata": {},
     "output_type": "execute_result"
    }
   ],
   "source": [
    "nyc_data.columns"
   ]
  },
  {
   "cell_type": "markdown",
   "metadata": {},
   "source": [
    "When cleaning column names, let's use list comprehension to chain the vectorised operations on strings without having to type .str every time (because we operate on strings directly)."
   ]
  },
  {
   "cell_type": "code",
   "execution_count": 82,
   "metadata": {},
   "outputs": [],
   "source": [
    "# trying to use dictionaries and regex to do it in more elegant manner.\n",
    "# to_be_replaced = {\" \": \"_\", \"number_of_\": \"\", \"_name\": \"\", \"_code\": \"\", \"contributing_factor\": \"cause\"}\n",
    "# nyc_data.columns = [col.lower().replace(\"\", \"\") for col in nyc_data.columns]\n",
    "\n",
    "nyc_data.columns = [col\n",
    "                    .lower()\n",
    "                    .replace(\" \", \"_\")\n",
    "                    .replace(\"number_of_\", \"\")\n",
    "                    .replace(\"_name\", \"\")\n",
    "                    .replace(\"_code\", \"\")\n",
    "                    .replace(\"contributing_factor\", \"cause\")\n",
    "                    .replace(\"persons\", \"total\")\n",
    "                    for col in nyc_data.columns]"
   ]
  },
  {
   "cell_type": "code",
   "execution_count": 83,
   "metadata": {},
   "outputs": [
    {
     "data": {
      "text/plain": [
       "Index(['date', 'time', 'borough', 'zip', 'latitude', 'longitude', 'location',\n",
       "       'on_street', 'cross_street', 'off_street', 'total_injured',\n",
       "       'total_killed', 'pedestrians_injured', 'pedestrians_killed',\n",
       "       'cyclist_injured', 'cyclist_killed', 'motorist_injured',\n",
       "       'motorist_killed', 'cause_vehicle_1', 'cause_vehicle_2',\n",
       "       'cause_vehicle_3', 'cause_vehicle_4', 'cause_vehicle_5', 'unique_key',\n",
       "       'vehicle_type_1', 'vehicle_type_2', 'vehicle_type_3', 'vehicle_type_4',\n",
       "       'vehicle_type_5'],\n",
       "      dtype='object')"
      ]
     },
     "execution_count": 83,
     "metadata": {},
     "output_type": "execute_result"
    }
   ],
   "source": [
    "nyc_data.columns"
   ]
  },
  {
   "cell_type": "markdown",
   "metadata": {},
   "source": [
    "Our column names look much better, but let's change their order and simplify some of them. "
   ]
  },
  {
   "cell_type": "code",
   "execution_count": 84,
   "metadata": {},
   "outputs": [],
   "source": [
    "fixed_columns = ['unique_key', 'date', 'time', 'borough', 'zip', 'latitude', 'longitude', \n",
    "                    'location', 'on_street', 'cross_street', 'off_street', \n",
    "                    'pedestrians_injured', 'cyclist_injured', 'motorist_injured', 'total_injured', \n",
    "                    'pedestrians_killed', 'cyclist_killed', 'motorist_killed', 'total_killed', \n",
    "                    'vehicle_type_1', 'vehicle_type_2', 'vehicle_type_3', 'vehicle_type_4', \n",
    "                    'vehicle_type_5', 'cause_vehicle_1', 'cause_vehicle_2','cause_vehicle_3', \n",
    "                    'cause_vehicle_4', 'cause_vehicle_5']\n",
    "nyc_data = nyc_data[fixed_columns]"
   ]
  },
  {
   "cell_type": "markdown",
   "metadata": {},
   "source": [
    "## Handling missing values"
   ]
  },
  {
   "cell_type": "markdown",
   "metadata": {},
   "source": [
    "From the sampling process we know, that there are lots of potentially missing values. To have a good overview of what's missing, let's create dataframe object neatly showing percentages of the values missing."
   ]
  },
  {
   "cell_type": "code",
   "execution_count": 94,
   "metadata": {},
   "outputs": [
    {
     "name": "stdout",
     "output_type": "stream",
     "text": [
      "                     values_null  percentage_null\n",
      "unique_key                     0         0.000000\n",
      "date                           0         0.000000\n",
      "time                           0         0.000000\n",
      "borough                    16507        35.653038\n",
      "zip                        16515        35.670317\n",
      "latitude                    2995         6.468822\n",
      "longitude                   2995         6.468822\n",
      "location                    2995         6.468822\n",
      "on_street                  11098        23.970280\n",
      "cross_street               23303        50.331541\n",
      "off_street                 35338        76.325623\n",
      "pedestrians_injured            0         0.000000\n",
      "cyclist_injured                0         0.000000\n",
      "motorist_injured               0         0.000000\n",
      "total_injured                  0         0.000000\n",
      "pedestrians_killed             0         0.000000\n",
      "cyclist_killed                 0         0.000000\n",
      "motorist_killed                0         0.000000\n",
      "total_killed                   0         0.000000\n",
      "vehicle_type_1               276         0.596125\n",
      "vehicle_type_2              9793        21.151645\n",
      "vehicle_type_3             43522        94.002030\n",
      "vehicle_type_4             45719        98.747273\n",
      "vehicle_type_5             46128        99.630662\n",
      "cause_vehicle_1              138         0.298063\n",
      "cause_vehicle_2             6900        14.903130\n",
      "cause_vehicle_3            43367        93.667250\n",
      "cause_vehicle_4            45685        98.673837\n",
      "cause_vehicle_5            46114        99.600423\n"
     ]
    }
   ],
   "source": [
    "null_counts = nyc_data.isnull().sum()\n",
    "null_counts_pct = null_counts / nyc_data.shape[0] * 100\n",
    "null_dataframe = pd.DataFrame({\"values_null\": null_counts, \"percentage_null\": null_counts_pct})\n",
    "print(null_dataframe)"
   ]
  },
  {
   "cell_type": "markdown",
   "metadata": {},
   "source": [
    "Around 30% of the columns have no missing values. Since none of the `killed` and `injured` columns have missing values except for `total` columns, we can easily fill those values by calculating the sum."
   ]
  },
  {
   "cell_type": "code",
   "execution_count": 86,
   "metadata": {},
   "outputs": [],
   "source": [
    "killed_columns = [col for col in nyc_data \n",
    "                  if \"killed\" in col and \"total\" not in col] #retrieving columns containing 'killed' but not 'total'\n",
    "killed_df = nyc_data[killed_columns].copy() #making a copy of the dataset with columns we want to sum\n",
    "nyc_data[\"total_killed\"] = killed_df.sum(axis=1)\n",
    "\n",
    "injured_columns = [col for col in nyc_data \n",
    "                   if \"injured\" in col and \"total\" not in col]\n",
    "injured_df = nyc_data[injured_columns].copy()\n",
    "nyc_data[\"total_injured\"] = injured_df.sum(axis=1)"
   ]
  },
  {
   "cell_type": "markdown",
   "metadata": {},
   "source": [
    "Let's get a better understanding of the rest of missing data by creating a heatmap of all the values in our dataset."
   ]
  },
  {
   "cell_type": "code",
   "execution_count": 100,
   "metadata": {},
   "outputs": [
    {
     "data": {
      "image/png": "[encoded data removed]",
      "text/plain": [
       "<Figure size 1296x1080 with 1 Axes>"
      ]
     },
     "metadata": {
      "needs_background": "light"
     },
     "output_type": "display_data"
    }
   ],
   "source": [
    "plt.figure(figsize=(18,15))\n",
    "null_data = nyc_data.isnull() #boolean dataframe based on whether values are null\n",
    "sns.heatmap(~null_data, cbar=False, yticklabels=False)#heatmap of the boolean dataframe, using ~ for inverted colours\n",
    "plt.xticks(rotation=90, size='x-large')\n",
    "plt.show()"
   ]
  },
  {
   "cell_type": "markdown",
   "metadata": {},
   "source": [
    "Light tan colour represents values that are present, while black represents missing data. We can draw some conclusions by looking at the plot: \n",
    "1. Columns regarding type of vehicle or cause of the accident have most missing values, but it's nothing to worry about, since it's easily atributted to the number of cars involved in the accident (rarely more than two cars at a time are involved accident). Filling those values will be relatively easy.\n",
    "2. Columns regarding streets are alternately filled and null, e.g. when on_street has no value, off_street or cross_street has a value and vice versa. Not all the accidents happened on the intersections, so filling some of cross_street values could be wrong. Because we don't need these columns to be overly specific, we could reduce them to one column, filling nulls with values from two others.\n",
    "3. Latitude and longitude columns can be dropped, because location is a combination of both.\n",
    "4. Borough values could be potentially filled using external API based off of coordinates. Zip can be dropped, because it's not relevant."
   ]
  },
  {
   "cell_type": "code",
   "execution_count": null,
   "metadata": {},
   "outputs": [],
   "source": []
  }
 ],
 "metadata": {
  "kernelspec": {
   "display_name": "Python 3",
   "language": "python",
   "name": "python3"
  },
  "language_info": {
   "codemirror_mode": {
    "name": "ipython",
    "version": 3
   },
   "file_extension": ".py",
   "mimetype": "text/x-python",
   "name": "python",
   "nbconvert_exporter": "python",
   "pygments_lexer": "ipython3",
   "version": "3.6.8"
  }
 },
 "nbformat": 4,
 "nbformat_minor": 2
}
